{
 "cells": [
  {
   "cell_type": "markdown",
   "metadata": {},
   "source": [
    "5.1.1 自定义块"
   ]
  },
  {
   "cell_type": "code",
   "execution_count": 3,
   "metadata": {},
   "outputs": [],
   "source": [
    "import torch\n",
    "from torch import nn\n",
    "from torch.nn import functional as F\n"
   ]
  },
  {
   "cell_type": "code",
   "execution_count": 4,
   "metadata": {},
   "outputs": [
    {
     "data": {
      "text/plain": [
       "tensor([[ 3.6363e-02,  2.5111e-01, -1.4637e-01,  8.3014e-05, -1.2809e-01,\n",
       "          4.4949e-02, -9.3296e-02,  2.9547e-03,  1.2905e-01, -1.6684e-01],\n",
       "        [-6.1763e-02,  3.3237e-01, -2.1787e-01,  5.3973e-03, -1.8795e-01,\n",
       "          8.8189e-02, -1.3969e-01, -9.3340e-02,  1.9851e-01, -1.9477e-01]],\n",
       "       grad_fn=<AddmmBackward0>)"
      ]
     },
     "execution_count": 4,
     "metadata": {},
     "output_type": "execute_result"
    }
   ],
   "source": [
    "# 多层感知机\n",
    "\n",
    "net = nn.Sequential(nn.Linear(20, 256), nn.ReLU(), nn.Linear(256, 10))\n",
    "\n",
    "x = torch.rand(2, 20)\n",
    "net(x)"
   ]
  },
  {
   "cell_type": "code",
   "execution_count": 6,
   "metadata": {},
   "outputs": [
    {
     "data": {
      "text/plain": [
       "tensor([[ 0.2366, -0.0809, -0.0487,  0.1132, -0.0119, -0.0639,  0.0087,  0.0150,\n",
       "         -0.1293,  0.0700],\n",
       "        [ 0.2026, -0.0300, -0.0575,  0.0799,  0.0614, -0.1144, -0.0461, -0.0769,\n",
       "         -0.1513,  0.1596]], grad_fn=<AddmmBackward0>)"
      ]
     },
     "execution_count": 6,
     "metadata": {},
     "output_type": "execute_result"
    }
   ],
   "source": [
    "class MLP(nn.Module):\n",
    "    def __init__(self):\n",
    "        super().__init__()\n",
    "        self.hidden = nn.Linear(20, 256)\n",
    "        self.out = nn.Linear(256, 10)\n",
    "\n",
    "    def forward(self, x):\n",
    "        return self.out(F.relu(self.hidden(x)))\n",
    "\n",
    "net = MLP()\n",
    "net(x)"
   ]
  },
  {
   "cell_type": "markdown",
   "metadata": {},
   "source": [
    "5.1.2 顺序块"
   ]
  },
  {
   "cell_type": "code",
   "execution_count": 17,
   "metadata": {},
   "outputs": [],
   "source": [
    "class MySequential(nn.Module):\n",
    "    def __init__(self, *args):\n",
    "        super().__init__()\n",
    "        for idx, module in  enumerate(args):\n",
    "            self._modules[str(idx)] = module\n",
    "        \n",
    "    def forward(self, x):\n",
    "        for blcok in self._modules.values():\n",
    "            x = blcok(x)\n",
    "        return x"
   ]
  },
  {
   "cell_type": "code",
   "execution_count": 56,
   "metadata": {},
   "outputs": [
    {
     "data": {
      "text/plain": [
       "tensor([[-0.0409, -0.0353, -0.1685,  0.0885,  0.0943,  0.0599, -0.0645, -0.1565,\n",
       "          0.1460, -0.1376],\n",
       "        [ 0.0232,  0.0307, -0.1977,  0.1287,  0.0541,  0.0176, -0.1485, -0.1485,\n",
       "          0.1949, -0.1337]], grad_fn=<AddmmBackward0>)"
      ]
     },
     "execution_count": 56,
     "metadata": {},
     "output_type": "execute_result"
    }
   ],
   "source": [
    "net = MySequential(nn.Linear(20, 256), nn.ReLU(), nn.Linear(256, 10))\n",
    "\n",
    "net(x)"
   ]
  },
  {
   "cell_type": "markdown",
   "metadata": {},
   "source": [
    "5.1.3 在前向传播函数中执行代码"
   ]
  },
  {
   "cell_type": "code",
   "execution_count": 59,
   "metadata": {},
   "outputs": [],
   "source": [
    "class FixedHiddenMLP(nn.Module):\n",
    "    def __init__(self):\n",
    "        super().__init__()\n",
    "        self.rand_weight = torch.rand((20, 20), requires_grad=True)\n",
    "        self.linear = nn.Linear(20, 20)\n",
    "\n",
    "    def forward(self, x):\n",
    "        x =self.linear(x)\n",
    "\n",
    "        x = F.relu(torch.mm(x, self.rand_weight) + 1)\n",
    "\n",
    "        x = self.linear(x)\n",
    "\n",
    "        while x.abs().sum() > 1:\n",
    "            x /=2\n",
    "        return x.sum()"
   ]
  },
  {
   "cell_type": "code",
   "execution_count": 60,
   "metadata": {},
   "outputs": [
    {
     "data": {
      "text/plain": [
       "tensor(-0.1595, grad_fn=<SumBackward0>)"
      ]
     },
     "execution_count": 60,
     "metadata": {},
     "output_type": "execute_result"
    }
   ],
   "source": [
    "net = FixedHiddenMLP()\n",
    "net(x)"
   ]
  },
  {
   "cell_type": "code",
   "execution_count": 62,
   "metadata": {},
   "outputs": [
    {
     "data": {
      "text/plain": [
       "tensor(0.2179, grad_fn=<SumBackward0>)"
      ]
     },
     "execution_count": 62,
     "metadata": {},
     "output_type": "execute_result"
    }
   ],
   "source": [
    "class NestMLP(nn.Module):\n",
    "    def __init__(self):\n",
    "        super().__init__()\n",
    "        self.net = nn.Sequential( nn.Linear(20 ,64), nn.ReLU(), \n",
    "                                                            nn.Linear(64,32), nn.ReLU())\n",
    "        self.linear = nn.Linear(32, 16)\n",
    "\n",
    "    def forward(self, x):\n",
    "        return self.linear(self.net(x))\n",
    "    \n",
    "chimera = nn.Sequential(NestMLP(), nn.Linear(16 , 20), FixedHiddenMLP() )\n",
    "\n",
    "chimera(x)"
   ]
  },
  {
   "cell_type": "code",
   "execution_count": null,
   "metadata": {},
   "outputs": [],
   "source": []
  }
 ],
 "metadata": {
  "kernelspec": {
   "display_name": "d2l",
   "language": "python",
   "name": "python3"
  },
  "language_info": {
   "codemirror_mode": {
    "name": "ipython",
    "version": 3
   },
   "file_extension": ".py",
   "mimetype": "text/x-python",
   "name": "python",
   "nbconvert_exporter": "python",
   "pygments_lexer": "ipython3",
   "version": "3.9.21"
  }
 },
 "nbformat": 4,
 "nbformat_minor": 2
}
