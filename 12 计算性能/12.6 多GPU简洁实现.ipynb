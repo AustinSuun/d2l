{
 "cells": [
  {
   "cell_type": "code",
   "execution_count": 31,
   "metadata": {},
   "outputs": [],
   "source": [
    "import torch \n",
    "from torch import nn\n",
    "\n",
    "from d2l import torch as d2l "
   ]
  },
  {
   "cell_type": "code",
   "execution_count": 32,
   "metadata": {},
   "outputs": [],
   "source": [
    "def resnet18(num_classes, in_channels = 1):\n",
    "    def resnet_block(in_channels, out_channels, num_residuals,\n",
    "                                        first_block = False):\n",
    "        blk = []\n",
    "        for i in range(num_residuals):\n",
    "            if i==0 and not first_block:\n",
    "                #  这里的 残差块使用  lazy 的实现方式，只需要 输出通道数\n",
    "                blk.append(d2l.Residual(out_channels, use_1x1conv=True, strides=2))\n",
    "            else:\n",
    "                blk.append(d2l.Residual(out_channels))\n",
    "        return nn.Sequential(*blk)\n",
    "\n",
    "    net= nn.Sequential(\n",
    "                    nn.Conv2d(in_channels, 64, kernel_size= 3, padding=1, stride=1),\n",
    "                    nn.BatchNorm2d(64),\n",
    "                    nn.ReLU()\n",
    "    )\n",
    "    net.add_module('resnet_block1', resnet_block(64, 64, 2, first_block=True))\n",
    "    net.add_module('resnet_block2', resnet_block( 64 , 128, 2))\n",
    "    net.add_module('resnet_block3', resnet_block(128, 256, 2))\n",
    "    net.add_module('resnet_block4', resnet_block(256, 512, 2))\n",
    "    net.add_module('global_avg_pool', nn.AdaptiveAvgPool2d((1,1)))\n",
    "    net.add_module('fc', nn.Sequential(nn.Flatten(), nn.Linear(512, num_classes)))\n",
    "\n",
    "    return net\n"
   ]
  },
  {
   "cell_type": "code",
   "execution_count": 33,
   "metadata": {},
   "outputs": [],
   "source": [
    "net= resnet18(10)\n",
    "devices = d2l.try_all_gpus()"
   ]
  },
  {
   "cell_type": "code",
   "execution_count": 34,
   "metadata": {},
   "outputs": [
    {
     "name": "stdout",
     "output_type": "stream",
     "text": [
      "Conv2d out shape \t torch.Size([1, 64, 28, 28])\n",
      "BatchNorm2d out shape \t torch.Size([1, 64, 28, 28])\n",
      "ReLU out shape \t torch.Size([1, 64, 28, 28])\n",
      "Sequential out shape \t torch.Size([1, 64, 28, 28])\n",
      "Sequential out shape \t torch.Size([1, 128, 14, 14])\n",
      "Sequential out shape \t torch.Size([1, 256, 7, 7])\n",
      "Sequential out shape \t torch.Size([1, 512, 4, 4])\n",
      "AdaptiveAvgPool2d out shape \t torch.Size([1, 512, 1, 1])\n",
      "Sequential out shape \t torch.Size([1, 10])\n"
     ]
    }
   ],
   "source": [
    "x = torch.rand(1, 1, 28, 28)\n",
    "for layer in net:\n",
    "    x = layer(x)\n",
    "    print(layer.__class__.__name__, 'out shape \\t', x.shape)"
   ]
  },
  {
   "cell_type": "code",
   "execution_count": 15,
   "metadata": {},
   "outputs": [],
   "source": [
    "def train(net, num_gpus, batch_size, lr):\n",
    "    train_iter, test_iter = d2l.load_data_fashion_mnist(batch_size)\n",
    "    devices = [d2l.try_gpu(i) for i in range(num_gpus)]\n",
    "\n",
    "    def init_weights(m):\n",
    "        if type(m) in (nn.Conv2d , nn.Linear):\n",
    "            nn.init.normal_(m.weight, std = 0.01)\n",
    "    net.apply(init_weights)\n",
    "    net = nn.DataParallel(net, device_ids=devices)\n",
    "    trainer = torch.optim.SGD(net.parameters(), lr)\n",
    "    loss = nn.CrossEntropyLoss()\n",
    "\n",
    "    timer , num_epochs = d2l.Timer(), 10\n",
    "    animator = d2l.Animator('epoch:', 'test acc',  xlim=[1, num_epochs])\n",
    "\n",
    "    for epoch in range(num_epochs):\n",
    "        net.train()\n",
    "        timer.start()\n",
    "        for X, y in train_iter:\n",
    "                trainer.zero_grad()\n",
    "                #  注意 x，y即使在cpu中也可以使用并行\n",
    "                X, y = X.to(devices[0]), y.to(devices[0])\n",
    "                l = loss(net(X), y)\n",
    "                l.backward()\n",
    "                trainer.step()\n",
    "        timer.stop()\n",
    "        animator.add(epoch+1, (d2l.evaluate_accuracy_gpu(net, test_iter), ))\n",
    "    print(f'测试精度：{animator.Y[0][-1]:.2f}, {timer.avg():.1f} 秒/轮, ', f'在{str(devices)}')\n"
   ]
  },
  {
   "cell_type": "code",
   "execution_count": null,
   "metadata": {},
   "outputs": [],
   "source": [
    "train(net, num_gpus=1, batch_size=256, lr = 0.1)"
   ]
  },
  {
   "cell_type": "markdown",
   "metadata": {},
   "source": [
    "![20250118201555](https://raw.githubusercontent.com/Rainbow452/image/main/img/20250118201555.png)\n",
    "![20250118203724](https://raw.githubusercontent.com/Rainbow452/image/main/img/20250118203724.png)"
   ]
  },
  {
   "cell_type": "code",
   "execution_count": null,
   "metadata": {},
   "outputs": [],
   "source": [
    "train(net, num_gpus=2, batch_size=512, lr = 0.1)"
   ]
  },
  {
   "cell_type": "markdown",
   "metadata": {},
   "source": [
    "![20250118201613](https://raw.githubusercontent.com/Rainbow452/image/main/img/20250118201613.png)\n",
    "![20250118203837](https://raw.githubusercontent.com/Rainbow452/image/main/img/20250118203837.png)"
   ]
  }
 ],
 "metadata": {
  "kernelspec": {
   "display_name": "d2l",
   "language": "python",
   "name": "python3"
  },
  "language_info": {
   "codemirror_mode": {
    "name": "ipython",
    "version": 3
   },
   "file_extension": ".py",
   "mimetype": "text/x-python",
   "name": "python",
   "nbconvert_exporter": "python",
   "pygments_lexer": "ipython3",
   "version": "3.9.21"
  }
 },
 "nbformat": 4,
 "nbformat_minor": 2
}
