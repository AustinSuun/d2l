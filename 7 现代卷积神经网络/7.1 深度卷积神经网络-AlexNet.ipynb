{
 "cells": [
  {
   "cell_type": "code",
   "execution_count": 1,
   "metadata": {},
   "outputs": [],
   "source": [
    "import  torch\n",
    "from torch import nn\n",
    "from d2l import torch as d2l"
   ]
  },
  {
   "cell_type": "code",
   "execution_count": 10,
   "metadata": {},
   "outputs": [],
   "source": [
    "net = nn.Sequential(\n",
    "    nn.Conv2d(1, 96, kernel_size=11, stride=4, padding= 1), nn.ReLU(),\n",
    "    nn.MaxPool2d(kernel_size=3, stride=2),\n",
    "    nn.Conv2d(96, 256, kernel_size= 5, padding=2),nn.ReLU(),\n",
    "    nn.MaxPool2d(kernel_size=3, stride=2),\n",
    "\n",
    "    nn.Conv2d(256, 384, kernel_size=3, padding=1), nn.ReLU(),\n",
    "    nn.Conv2d(384, 384, kernel_size=3, padding=1), nn.ReLU(),\n",
    "    nn.Conv2d(384,256,  kernel_size=3, padding=1), nn.ReLU(),\n",
    "    nn.MaxPool2d(kernel_size=3, stride=2),\n",
    "    nn.Flatten(),\n",
    "\n",
    "    nn.Linear(6400, 4096), nn.ReLU(),\n",
    "    nn.Dropout(p=0.5),\n",
    "    nn.Linear(4096, 4096),nn.ReLU(),\n",
    "    nn.Dropout(0.5),\n",
    "\n",
    "    nn.Linear(4096, 10)\n",
    ")"
   ]
  },
  {
   "cell_type": "code",
   "execution_count": 11,
   "metadata": {},
   "outputs": [
    {
     "name": "stdout",
     "output_type": "stream",
     "text": [
      "Conv2d  out shape :   \t torch.Size([1, 96, 54, 54])\n",
      "ReLU  out shape :   \t torch.Size([1, 96, 54, 54])\n",
      "MaxPool2d  out shape :   \t torch.Size([1, 96, 26, 26])\n",
      "Conv2d  out shape :   \t torch.Size([1, 256, 26, 26])\n",
      "ReLU  out shape :   \t torch.Size([1, 256, 26, 26])\n",
      "MaxPool2d  out shape :   \t torch.Size([1, 256, 12, 12])\n",
      "Conv2d  out shape :   \t torch.Size([1, 384, 12, 12])\n",
      "ReLU  out shape :   \t torch.Size([1, 384, 12, 12])\n",
      "Conv2d  out shape :   \t torch.Size([1, 384, 12, 12])\n",
      "ReLU  out shape :   \t torch.Size([1, 384, 12, 12])\n",
      "Conv2d  out shape :   \t torch.Size([1, 256, 12, 12])\n",
      "ReLU  out shape :   \t torch.Size([1, 256, 12, 12])\n",
      "MaxPool2d  out shape :   \t torch.Size([1, 256, 5, 5])\n",
      "Flatten  out shape :   \t torch.Size([1, 6400])\n",
      "Linear  out shape :   \t torch.Size([1, 4096])\n",
      "ReLU  out shape :   \t torch.Size([1, 4096])\n",
      "Dropout  out shape :   \t torch.Size([1, 4096])\n",
      "Linear  out shape :   \t torch.Size([1, 4096])\n",
      "ReLU  out shape :   \t torch.Size([1, 4096])\n",
      "Dropout  out shape :   \t torch.Size([1, 4096])\n",
      "Linear  out shape :   \t torch.Size([1, 10])\n"
     ]
    }
   ],
   "source": [
    "x = torch.rand(1,1,224,224)\n",
    "\n",
    "for layer in net:\n",
    "    x = layer(x)\n",
    "    print(layer.__class__.__name__, ' out shape :   \\t', x.shape)"
   ]
  },
  {
   "cell_type": "code",
   "execution_count": 15,
   "metadata": {},
   "outputs": [],
   "source": [
    "batch_size = 128\n",
    "train_iter , test_iter = d2l.load_data_fashion_mnist(batch_size, resize=224)\n"
   ]
  },
  {
   "cell_type": "code",
   "execution_count": null,
   "metadata": {},
   "outputs": [],
   "source": [
    "lr = 0.01\n",
    "num_epochs = 10\n",
    "d2l.train_ch6(net, train_iter, test_iter, num_epochs, lr, d2l.try_gpu())"
   ]
  },
  {
   "cell_type": "markdown",
   "metadata": {},
   "source": [
    "![20250113153117](https://raw.githubusercontent.com/Rainbow452/image/main/img/20250113153117.png)"
   ]
  }
 ],
 "metadata": {
  "kernelspec": {
   "display_name": "d2l",
   "language": "python",
   "name": "python3"
  },
  "language_info": {
   "codemirror_mode": {
    "name": "ipython",
    "version": 3
   },
   "file_extension": ".py",
   "mimetype": "text/x-python",
   "name": "python",
   "nbconvert_exporter": "python",
   "pygments_lexer": "ipython3",
   "version": "3.9.21"
  }
 },
 "nbformat": 4,
 "nbformat_minor": 2
}
