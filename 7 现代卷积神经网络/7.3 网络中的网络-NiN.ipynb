{
 "cells": [
  {
   "cell_type": "code",
   "execution_count": 1,
   "metadata": {},
   "outputs": [],
   "source": [
    "import torch\n",
    "from torch import nn\n",
    "from d2l import torch as d2l"
   ]
  },
  {
   "cell_type": "code",
   "execution_count": 2,
   "metadata": {},
   "outputs": [],
   "source": [
    "def nin_block(in_channels, out_channels, kernel_size, strides, padding):\n",
    "    return nn.Sequential(\n",
    "        nn.Conv2d(in_channels, out_channels, kernel_size, strides, padding),\n",
    "        nn.ReLU(),\n",
    "        nn.Conv2d(out_channels, out_channels, kernel_size=1), nn.ReLU(),\n",
    "        nn.Conv2d(out_channels, out_channels, kernel_size=1), nn.ReLU()\n",
    "    )"
   ]
  },
  {
   "cell_type": "code",
   "execution_count": 4,
   "metadata": {},
   "outputs": [],
   "source": [
    "net = nn.Sequential(\n",
    "    nin_block(1, 96, kernel_size=11, strides=4, padding=0),\n",
    "    nn.MaxPool2d(kernel_size=3, stride=2),\n",
    "    nin_block(96, 256, kernel_size=5, strides=1, padding=2),\n",
    "    nn.MaxPool2d(kernel_size=3, stride=2),\n",
    "    nin_block(256, 384, kernel_size=3, strides=1, padding=1),\n",
    "    nn.MaxPool2d(kernel_size=3, stride=2),\n",
    "    nn.Dropout(0.5),\n",
    "\n",
    "    nin_block(384, 10, kernel_size=3, strides=1, padding=1),\n",
    "    \n",
    "    nn.AdaptiveAvgPool2d((1, 1)),\n",
    "    nn.Flatten()\n",
    ")"
   ]
  },
  {
   "cell_type": "code",
   "execution_count": 7,
   "metadata": {},
   "outputs": [
    {
     "name": "stdout",
     "output_type": "stream",
     "text": [
      "Sequential  output shape:  \t torch.Size([1, 96, 54, 54])\n",
      "MaxPool2d  output shape:  \t torch.Size([1, 96, 26, 26])\n",
      "Sequential  output shape:  \t torch.Size([1, 256, 26, 26])\n",
      "MaxPool2d  output shape:  \t torch.Size([1, 256, 12, 12])\n",
      "Sequential  output shape:  \t torch.Size([1, 384, 12, 12])\n",
      "MaxPool2d  output shape:  \t torch.Size([1, 384, 5, 5])\n",
      "Dropout  output shape:  \t torch.Size([1, 384, 5, 5])\n",
      "Sequential  output shape:  \t torch.Size([1, 10, 5, 5])\n",
      "AdaptiveAvgPool2d  output shape:  \t torch.Size([1, 10, 1, 1])\n",
      "Flatten  output shape:  \t torch.Size([1, 10])\n"
     ]
    }
   ],
   "source": [
    "x = torch.rand(1,1,224,224)\n",
    "\n",
    "for layer in net:\n",
    "    x = layer(x)\n",
    "    print(layer.__class__.__name__, ' output shape:  \\t', x.shape)\n"
   ]
  },
  {
   "cell_type": "code",
   "execution_count": null,
   "metadata": {},
   "outputs": [],
   "source": [
    "lr, num_epochs, batch_size = 0.1, 10, 128\n",
    "train_iter, test_iter = d2l.load_data_fashion_mnist(batch_size, resize=224)\n",
    "\n",
    "d2l.train_ch6(net, train_iter, test_iter, num_epochs, lr, d2l.try_gpu())"
   ]
  },
  {
   "cell_type": "markdown",
   "metadata": {},
   "source": [
    "![20250115105252](https://raw.githubusercontent.com/Rainbow452/image/main/img/20250115105252.png)"
   ]
  },
  {
   "cell_type": "markdown",
   "metadata": {},
   "source": [
    "![20250115112202](https://raw.githubusercontent.com/Rainbow452/image/main/img/20250115112202.png)\n",
    "\n",
    "没有全链接层，参数量过少，欠拟合"
   ]
  },
  {
   "cell_type": "markdown",
   "metadata": {},
   "source": [
    "![20250115114523](https://raw.githubusercontent.com/Rainbow452/image/main/img/20250115114523.png)\n",
    "\n",
    "直接输出 10个通道  准确率 loss  下降"
   ]
  }
 ],
 "metadata": {
  "kernelspec": {
   "display_name": "d2l",
   "language": "python",
   "name": "python3"
  },
  "language_info": {
   "codemirror_mode": {
    "name": "ipython",
    "version": 3
   },
   "file_extension": ".py",
   "mimetype": "text/x-python",
   "name": "python",
   "nbconvert_exporter": "python",
   "pygments_lexer": "ipython3",
   "version": "3.9.21"
  }
 },
 "nbformat": 4,
 "nbformat_minor": 2
}
