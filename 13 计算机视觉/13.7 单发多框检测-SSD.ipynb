{
 "cells": [
  {
   "cell_type": "code",
   "execution_count": 3,
   "metadata": {},
   "outputs": [],
   "source": [
    "import torch\n",
    "import torchvision\n",
    "from torch import nn \n",
    "from torch.nn import functional as F\n",
    "from d2l import torch as d2l"
   ]
  },
  {
   "cell_type": "code",
   "execution_count": 4,
   "metadata": {},
   "outputs": [],
   "source": [
    "def cls_predictor(num_inputs, num_anchors, num_classes):\n",
    "    return nn.Conv2d(num_inputs, num_anchors * (num_classes + 1), \n",
    "                                        kernel_size=3, padding=1)"
   ]
  },
  {
   "cell_type": "code",
   "execution_count": 5,
   "metadata": {},
   "outputs": [],
   "source": [
    "def bbox_predictor(num_inputs, num_anchors):\n",
    "    return nn.Conv2d(num_inputs, num_anchors * 4, kernel_size=3, padding=1)"
   ]
  },
  {
   "cell_type": "code",
   "execution_count": 6,
   "metadata": {},
   "outputs": [
    {
     "data": {
      "text/plain": [
       "(torch.Size([2, 55, 20, 20]), torch.Size([2, 33, 10, 10]))"
      ]
     },
     "execution_count": 6,
     "metadata": {},
     "output_type": "execute_result"
    }
   ],
   "source": [
    "def forward(x, block):\n",
    "    return block(x)\n",
    "\n",
    "Y1 = forward(torch.zeros((2, 8, 20, 20)), cls_predictor(8, 5, 10 ))\n",
    "Y2 = forward(torch.zeros((2, 16, 10, 10)), cls_predictor(16, 3, 10))\n",
    "\n",
    "Y1.shape, Y2.shape"
   ]
  },
  {
   "cell_type": "code",
   "execution_count": 7,
   "metadata": {},
   "outputs": [],
   "source": [
    "def flatten_pred(pred):\n",
    "    # 调整 数据顺序： 批次， h ， w， channels， 在平摊 后三个维度\n",
    "    # 变成 [ size，h * w * channels ]\n",
    "    return torch.flatten(pred.permute(0, 2, 3, 1), start_dim=1)\n",
    "\n",
    "def concat_preds(preds):\n",
    "        return torch.cat( [flatten_pred(p)  for p in preds], dim=1)"
   ]
  },
  {
   "cell_type": "code",
   "execution_count": 8,
   "metadata": {},
   "outputs": [
    {
     "data": {
      "text/plain": [
       "torch.Size([2, 25300])"
      ]
     },
     "execution_count": 8,
     "metadata": {},
     "output_type": "execute_result"
    }
   ],
   "source": [
    "concat_preds([Y1, Y2]).shape"
   ]
  },
  {
   "cell_type": "code",
   "execution_count": 9,
   "metadata": {},
   "outputs": [],
   "source": [
    "def down_sample_blk(in_channels, out_channels):\n",
    "    blk = []\n",
    "    for _ in range(2):\n",
    "        blk.append(nn.Conv2d(in_channels, out_channels, \n",
    "                             kernel_size=3,padding=1))\n",
    "        blk.append(nn.BatchNorm2d(out_channels))\n",
    "        blk.append(nn.ReLU())\n",
    "        in_channels = out_channels\n",
    "    blk.append(nn.MaxPool2d(2))\n",
    "    return nn.Sequential(*blk)"
   ]
  },
  {
   "cell_type": "code",
   "execution_count": 10,
   "metadata": {},
   "outputs": [
    {
     "data": {
      "text/plain": [
       "torch.Size([2, 10, 10, 10])"
      ]
     },
     "execution_count": 10,
     "metadata": {},
     "output_type": "execute_result"
    }
   ],
   "source": [
    "forward(torch.zeros((2, 3, 20,20)), down_sample_blk(3, 10)).shape"
   ]
  },
  {
   "cell_type": "code",
   "execution_count": 11,
   "metadata": {},
   "outputs": [
    {
     "data": {
      "text/plain": [
       "torch.Size([2, 64, 32, 32])"
      ]
     },
     "execution_count": 11,
     "metadata": {},
     "output_type": "execute_result"
    }
   ],
   "source": [
    "# 基本网络\n",
    "def base_net():\n",
    "     blk = []\n",
    "     num_filters = [3, 16, 32, 64]\n",
    "     for  i in range(len(num_filters) - 1):\n",
    "          blk.append( down_sample_blk(num_filters[i], num_filters[i+1]))\n",
    "     return  nn.Sequential(*blk)\n",
    "\n",
    "\n",
    "forward(torch.zeros((2, 3, 256, 256)), base_net()).shape"
   ]
  },
  {
   "cell_type": "code",
   "execution_count": 28,
   "metadata": {},
   "outputs": [],
   "source": [
    "def get_block(i):\n",
    "    if i==0:\n",
    "        blk = base_net()\n",
    "    elif i==1:\n",
    "        blk = down_sample_blk(64, 128)\n",
    "    elif i==4 :\n",
    "        blk = nn.AdaptiveMaxPool2d((1, 1))\n",
    "    else:\n",
    "        blk = down_sample_blk(128 ,128)\n",
    "    return blk"
   ]
  },
  {
   "cell_type": "code",
   "execution_count": 30,
   "metadata": {},
   "outputs": [],
   "source": [
    "def blk_forward(X, blk, size, ratio, cls_predictor, bbox_predictor):\n",
    "    Y = blk(X)\n",
    "    anchors = d2l.multibox_prior(Y, size, ratio)\n",
    "    cls_preds = cls_predictor(Y)\n",
    "    bbox_preds = bbox_predictor(Y)\n",
    "\n",
    "    return (Y, anchors, cls_preds, bbox_preds)"
   ]
  },
  {
   "cell_type": "code",
   "execution_count": 31,
   "metadata": {},
   "outputs": [],
   "source": [
    "sizes = [ [ 0.2, 0.272], [0.37, 0.447], [0.54, 0.619], [0.71, 0.79],\n",
    "          [0.88, 0.961]]\n",
    "ratios = [[1, 2, 0.5]] * 5\n",
    "num_anchors = len(sizes[0]) + len(ratios[0]) - 1"
   ]
  },
  {
   "cell_type": "code",
   "execution_count": 32,
   "metadata": {},
   "outputs": [],
   "source": [
    "class TinySSD(nn.Module):\n",
    "    def __init__(self, num_classes, **kwargs):\n",
    "        super().__init__(**kwargs)\n",
    "        self.num_classes =  num_classes\n",
    "        id_to_in_channels = [64, 128, 128, 128, 128]\n",
    "        for i in range(5):\n",
    "            setattr(self, f'block_{i}',get_block(i))\n",
    "            setattr(self, f'cls_{i}', cls_predictor(id_to_in_channels[i], \n",
    "                                                                        num_anchors, num_classes ))\n",
    "            setattr(self, f'bbox_{i}', bbox_predictor(id_to_in_channels[i], num_anchors))\n",
    "\n",
    "    def forward(self, x):\n",
    "            anchors, cls_preds, bbox_preds = [None] * 5, [None] * 5, [None] * 5\n",
    "            for i in range(5):\n",
    "                 x , anchors[i], cls_preds[i], bbox_preds[i] = blk_forward(x, getattr(self, f'block_{i}'),\n",
    "                                                                                                            sizes[i], ratios[i],getattr(self, f'cls_{i}'),\n",
    "                                                                                                            getattr(self, f'bbox_{i}'))\n",
    "            anchors = torch.cat(anchors, dim=1)\n",
    "            cls_preds=concat_preds(cls_preds)\n",
    "            cls_preds = cls_preds.reshape(cls_preds.shape[0], -1 , self.num_classes+1)\n",
    "            bbox_preds = concat_preds(bbox_preds)\n",
    "            return anchors, cls_preds, bbox_preds"
   ]
  },
  {
   "cell_type": "code",
   "execution_count": null,
   "metadata": {},
   "outputs": [],
   "source": []
  },
  {
   "cell_type": "code",
   "execution_count": 33,
   "metadata": {},
   "outputs": [
    {
     "data": {
      "text/plain": [
       "(torch.Size([1, 5444, 4]), torch.Size([32, 5444, 2]), torch.Size([32, 21776]))"
      ]
     },
     "execution_count": 33,
     "metadata": {},
     "output_type": "execute_result"
    }
   ],
   "source": [
    "net = TinySSD(num_classes = 1)\n",
    "\n",
    "X =torch.zeros((32, 3, 256, 256))\n",
    "anchors , cls_preds, bbox_preds = net(X)\n",
    "\n",
    "anchors.shape, cls_preds.shape, bbox_preds.shape"
   ]
  },
  {
   "cell_type": "code",
   "execution_count": 34,
   "metadata": {},
   "outputs": [
    {
     "name": "stdout",
     "output_type": "stream",
     "text": [
      "read 1000 training examples\n",
      "read 100 validation examples\n"
     ]
    }
   ],
   "source": [
    "batch_size = 32\n",
    "train_iter, _ = d2l.load_data_bananas(batch_size)\n"
   ]
  },
  {
   "cell_type": "code",
   "execution_count": 35,
   "metadata": {},
   "outputs": [],
   "source": [
    "device , net = d2l.try_gpu(), TinySSD(num_classes=1)\n",
    "trainer  = torch.optim.SGD(net.parameters(), lr=0.2, weight_decay=5e-4)"
   ]
  },
  {
   "cell_type": "code",
   "execution_count": 37,
   "metadata": {},
   "outputs": [],
   "source": [
    "cls_loss = nn.CrossEntropyLoss(reduction='none')\n",
    "bbox_loss = nn.L1Loss(reduction='none')\n",
    "\n",
    "def clac_loss(cls_preds, cls_labels, bbox_preds, bbox_labels, bbox_masks):\n",
    "    batch_size, num_classes = cls_preds.shape[0], cls_preds.shape[2]\n",
    "    cls = cls_loss(cls_preds.reshape(-1 , num_classes), \n",
    "                    cls_labels.reshape(-1)).reshape(batch_size, -1).mean(dim=1)  \n",
    "    bbox = bbox_loss(bbox_preds * bbox_masks, bbox_labels * bbox_masks).mean(dim=1)\n",
    "    return cls + bbox"
   ]
  },
  {
   "cell_type": "code",
   "execution_count": 36,
   "metadata": {},
   "outputs": [],
   "source": [
    "def cls_eval( cls_preds, cls_labels):\n",
    "    # cls_preds shape  [batch_size, num_anchors, classes]\n",
    "    return float(( cls_preds.argmax(dim= -1).type(cls_labels.dtype) == cls_labels).sum() )\n",
    "def bbox_eval(bbox_preds, bbox_labels, bbox_masks):\n",
    "    return float(( torch.abs((bbox_labels - bbox_preds) * bbox_masks)).sum() )"
   ]
  },
  {
   "cell_type": "code",
   "execution_count": null,
   "metadata": {},
   "outputs": [],
   "source": [
    "num_epochs, timer = 20, d2l.Timer()\n",
    "\n",
    "animator = d2l.Animator(xlabel='epoch', xlim=[1,num_epochs],\n",
    "                                                        legend=[ 'class error', 'bbox mae'])\n",
    "\n",
    "net = net.to(device)\n",
    "\n",
    "for epoch in range(num_epochs):\n",
    "    metric = d2l.Accumulator(4)\n",
    "    net.train()\n",
    "    for features, target in train_iter:\n",
    "        timer.start()\n",
    "        trainer.zero_grad()\n",
    "        X, Y = features.to(device), target.to(device)\n",
    "\n",
    "        anchors, cls_preds, bbox_preds = net(X)\n",
    "        # 将真实标签分配给锚框\n",
    "        bbox_labels , bbox_masks, cls_labels  =d2l.multibox_target(anchors, Y)\n",
    "        l = clac_loss(cls_preds, cls_labels, bbox_preds, bbox_labels, bbox_masks)\n",
    "\n",
    "        l.mean().backward()\n",
    "        trainer.step()\n",
    "\n",
    "        metric.add(cls_eval(cls_preds, cls_labels) , cls_labels.numel(), \n",
    "                                bbox_eval(bbox_preds, bbox_labels, bbox_masks),\n",
    "                                bbox_labels.numel())\n",
    "    cls_err, bbox_mae = 1 - metric[0] / metric[1], metric[2] / metric[3]\n",
    "    animator.add(epoch+1, (cls_err,   bbox_mae))\n",
    "\n",
    "print(f'class err   {cls_err:.2e}, bbox mae{bbox_mae :.2e}')\n",
    "# mae  ： mean abs error , 平均绝对误差\n",
    "print(f' {len(train_iter.dataset) / timer.stop() :.1f} examples /sec   on'\n",
    "                f'{str(device)}')"
   ]
  },
  {
   "cell_type": "markdown",
   "metadata": {},
   "source": [
    "![20250123114516](https://raw.githubusercontent.com/AustinSuun/image/main/img/20250123114516.png)"
   ]
  },
  {
   "cell_type": "code",
   "execution_count": 1,
   "metadata": {},
   "outputs": [
    {
     "ename": "NameError",
     "evalue": "name 'torchvision' is not defined",
     "output_type": "error",
     "traceback": [
      "\u001b[0;31m---------------------------------------------------------------------------\u001b[0m",
      "\u001b[0;31mNameError\u001b[0m                                 Traceback (most recent call last)",
      "Cell \u001b[0;32mIn[1], line 1\u001b[0m\n\u001b[0;32m----> 1\u001b[0m x \u001b[38;5;241m=\u001b[39m \u001b[43mtorchvision\u001b[49m\u001b[38;5;241m.\u001b[39mio\u001b[38;5;241m.\u001b[39mread_image(\u001b[38;5;124m'\u001b[39m\u001b[38;5;124m../img/banana.jpg\u001b[39m\u001b[38;5;124m'\u001b[39m)\u001b[38;5;241m.\u001b[39munsqueeze(\u001b[38;5;241m0\u001b[39m)\u001b[38;5;241m.\u001b[39mfloat()\n\u001b[1;32m      2\u001b[0m img \u001b[38;5;241m=\u001b[39m x\u001b[38;5;241m.\u001b[39msqueeze(\u001b[38;5;241m0\u001b[39m)\u001b[38;5;241m.\u001b[39mpermute(\u001b[38;5;241m1\u001b[39m, \u001b[38;5;241m2\u001b[39m, \u001b[38;5;241m0\u001b[39m)\u001b[38;5;241m.\u001b[39mlong()\n",
      "\u001b[0;31mNameError\u001b[0m: name 'torchvision' is not defined"
     ]
    }
   ],
   "source": [
    "x = torchvision.io.read_image('../img/banana.jpg').unsqueeze(0).float()\n",
    "img = x.squeeze(0).permute(1, 2, 0).long()"
   ]
  },
  {
   "cell_type": "code",
   "execution_count": null,
   "metadata": {},
   "outputs": [],
   "source": [
    "def predict(x):\n",
    "    net.eval()\n",
    "    anchors, cls_preds, bbox_preds = net(x.to(device))\n",
    "    # cls_probs shape  [batch_size,  anchors_num, class_num]\n",
    "    # 把一个锚框的 预测类 softmax\n",
    "    cls_probs = F.softmax(cls_preds, dim=2).permute(0, 2, 1)\n",
    "    output = d2l.multibox_detection(cls_probs, bbox_preds, anchors)\n",
    "    idx = [i for i , row in enumerate(output[0]) if row[0]!= -1]\n",
    "    return output[0 ,idx]\n",
    "\n",
    "output = predict(x)"
   ]
  },
  {
   "cell_type": "code",
   "execution_count": null,
   "metadata": {},
   "outputs": [],
   "source": [
    "def display(img, output, threshold):\n",
    "    d2l.set_figsize((5, 5))\n",
    "    fig =d2l.plt.imshow(img)\n",
    "    for row in output:\n",
    "        score = float(row[1])\n",
    "        if score < threshold:\n",
    "            continue\n",
    "        h, w = img.shape[:2]\n",
    "        bbox = [row[2:6] * torch.tensor((h, w, h, w), device=row.device)]\n",
    "        d2l.show_bboxes(img.axes, bbox, '%.2f' % score, 'w')\n",
    "\n",
    "display(img, output.cpu(), threshold=0.9)"
   ]
  },
  {
   "cell_type": "markdown",
   "metadata": {},
   "source": [
    "![20250123213014](https://raw.githubusercontent.com/AustinSuun/image/main/img/20250123213014.png)"
   ]
  }
 ],
 "metadata": {
  "kernelspec": {
   "display_name": "d2l",
   "language": "python",
   "name": "python3"
  },
  "language_info": {
   "codemirror_mode": {
    "name": "ipython",
    "version": 3
   },
   "file_extension": ".py",
   "mimetype": "text/x-python",
   "name": "python",
   "nbconvert_exporter": "python",
   "pygments_lexer": "ipython3",
   "version": "3.9.21"
  }
 },
 "nbformat": 4,
 "nbformat_minor": 2
}
