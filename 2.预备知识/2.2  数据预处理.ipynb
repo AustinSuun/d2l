{
 "cells": [
  {
   "cell_type": "markdown",
   "metadata": {},
   "source": [
    "2.2.1读取数据集"
   ]
  },
  {
   "cell_type": "code",
   "execution_count": 2,
   "metadata": {},
   "outputs": [],
   "source": [
    "import os"
   ]
  },
  {
   "cell_type": "code",
   "execution_count": 9,
   "metadata": {},
   "outputs": [],
   "source": [
    "os.makedirs(os.path.join('..', 'data') , exist_ok=True)\n",
    "fil = os.path.join(\"..\", 'data', 'hourse_tiny.csv')\n",
    "\n",
    "# 注意 第二列 NA 前面后面都没有空格\n",
    "with open(fil, 'w') as f:\n",
    "    f.write('NumRooms, Alley, Price\\n')\n",
    "    f.write('NA, Pave, 127500\\n')\n",
    "    f.write('2,NA, 106000\\n')\n",
    "    f.write('4,NA, 178100\\n')\n",
    "    f.write('NA,NA, 140000\\n')"
   ]
  },
  {
   "cell_type": "code",
   "execution_count": 10,
   "metadata": {},
   "outputs": [],
   "source": [
    "import pandas as pd\n"
   ]
  },
  {
   "cell_type": "code",
   "execution_count": 11,
   "metadata": {},
   "outputs": [
    {
     "name": "stdout",
     "output_type": "stream",
     "text": [
      "   NumRooms  Alley   Price\n",
      "0       NaN   Pave  127500\n",
      "1       2.0    NaN  106000\n",
      "2       4.0    NaN  178100\n",
      "3       NaN    NaN  140000\n"
     ]
    }
   ],
   "source": [
    "data = pd.read_csv(fil , na_values=['NA'])\n",
    "print(data)\n"
   ]
  },
  {
   "cell_type": "markdown",
   "metadata": {},
   "source": [
    "2.2.2 处理缺失值\n",
    "\n",
    "-1- 用均值填充\n",
    "\n",
    "-2- 单独作为一个类别"
   ]
  },
  {
   "cell_type": "code",
   "execution_count": 25,
   "metadata": {},
   "outputs": [
    {
     "name": "stdout",
     "output_type": "stream",
     "text": [
      "   NumRooms   Alley_ Pave   Alley_nan\n",
      "0       3.0          True       False\n",
      "1       2.0         False        True\n",
      "2       4.0         False        True\n",
      "3       3.0         False        True\n"
     ]
    }
   ],
   "source": [
    "inputs, outputs = data.iloc[:, 0:2], data.iloc[:, 2]\n",
    "# 注意新版本 mean() 不会忽略字符串\n",
    "inputs = inputs.fillna(inputs.mean(numeric_only=True))\n",
    "\n",
    "inputs = pd.get_dummies(inputs,dummy_na=True)\n",
    "print(inputs)"
   ]
  },
  {
   "cell_type": "markdown",
   "metadata": {},
   "source": [
    "2.2.3 转换为张量格式"
   ]
  },
  {
   "cell_type": "code",
   "execution_count": 26,
   "metadata": {},
   "outputs": [
    {
     "data": {
      "text/plain": [
       "(tensor([[3., 1., 0.],\n",
       "         [2., 0., 1.],\n",
       "         [4., 0., 1.],\n",
       "         [3., 0., 1.]], dtype=torch.float64),\n",
       " tensor([127500., 106000., 178100., 140000.], dtype=torch.float64))"
      ]
     },
     "execution_count": 26,
     "metadata": {},
     "output_type": "execute_result"
    }
   ],
   "source": [
    "import torch\n",
    "x = torch.tensor(inputs.to_numpy(dtype=float))\n",
    "y = torch.tensor(outputs.to_numpy(dtype=float))\n",
    "x , y"
   ]
  },
  {
   "cell_type": "markdown",
   "metadata": {},
   "source": [
    "### 练习"
   ]
  },
  {
   "cell_type": "markdown",
   "metadata": {},
   "source": [
    "创建包含更多行和列的原始数据集。\n",
    "\n",
    "删除缺失值最多的列。\n",
    "\n",
    "将预处理后的数据集转换为张量格式。"
   ]
  },
  {
   "cell_type": "code",
   "execution_count": 50,
   "metadata": {},
   "outputs": [
    {
     "name": "stdout",
     "output_type": "stream",
     "text": [
      "A    4\n",
      "B    1\n",
      "C    3\n",
      "D    2\n",
      "E    2\n",
      "F    2\n",
      "dtype: int64\n"
     ]
    },
    {
     "data": {
      "text/plain": [
       "tensor([[93.0000, 50.0000, 75.5000, 92.0000, 61.0000],\n",
       "        [83.0000, 87.0000, 75.0000, 75.0000, 59.5000],\n",
       "        [57.6667, 42.0000, 91.0000, 25.0000, 63.0000],\n",
       "        [21.0000, 37.0000, 89.0000, 43.5000, 91.0000],\n",
       "        [15.0000, 44.0000, 89.0000, 13.0000, 59.5000],\n",
       "        [37.0000, 50.0000, 78.0000, 26.0000, 29.0000],\n",
       "        [62.0000, 48.0000, 95.0000, 38.0000, 66.0000],\n",
       "        [19.0000, 80.0000, 75.5000, 43.5000, 11.0000],\n",
       "        [93.0000, 50.0000, 14.0000, 60.0000, 61.0000],\n",
       "        [96.0000, 12.0000, 73.0000, 19.0000, 94.0000]], dtype=torch.float64)"
      ]
     },
     "execution_count": 50,
     "metadata": {},
     "output_type": "execute_result"
    }
   ],
   "source": [
    "# 用html展示数据的模块\n",
    "from IPython.display import display, HTML\n",
    "import torch\n",
    "import pandas as pd\n",
    "# 创建文件路径\n",
    "file_path = os.path.join('..', 'data', '.csv')\n",
    "\n",
    "# 手动写入数据到文件\n",
    "with open(file_path, 'w') as f:\n",
    "    # 写入表头\n",
    "    f.write('A,B,C,D,E,F\\n')\n",
    "    # 写入数据行\n",
    "    f.write('Na,93.0,Na,,92.0,61.0\\n')   # 包含 Na 和字符串\n",
    "    f.write('21.0,83.0,87.0,75.0,75.0,Na\\n')\n",
    "    f.write('89.0,Na,42.0,91.0,25.0,63.0\\n')  # 第二列是 Na\n",
    "    f.write('60.0,21.0,37.0,89.0,Na,91.0\\n')  # 第五列是 Na\n",
    "    f.write('59.0,15.0,44.0,89.0,13.0,Na\\n')  # 第六列是 Na\n",
    "    f.write('Na,37.0,Na,78.0,26.0,29.0\\n')  # 第一列是字符串\n",
    "    f.write('Na,62.0,48.0,95.0,38.0,66.0\\n')  # 第一列是 Na\n",
    "    f.write('18.0,19.0,80.0,,Na,11.0\\n')      # 多个 Na\n",
    "    f.write('41.0,93.0,Na,14.0,60.0,61.0\\n')\n",
    "    f.write('Na,96.0,12.0,73.0,19.0,94.0\\n')  # 第一列是 Na\n",
    "\n",
    "# 读取数据\n",
    "da = pd.read_csv(file_path,na_values=['Na'])\n",
    "# 显示数据\n",
    "#display(HTML(da.to_html()))\n",
    "\n",
    "# 统计每一列缺失值\n",
    "na_num = da.isna().sum()\n",
    "print(na_num)\n",
    "# 找出缺失值最多的列\n",
    "max_miss_col = na_num.idxmax()\n",
    "# 删除缺失值最多的列\n",
    "da = da.drop(max_miss_col, axis = 1)\n",
    "#display(HTML(da.to_html()))\n",
    "\n",
    "# 用均值填充缺失值\n",
    "da = da.fillna(da.mean(numeric_only=True))\n",
    "# 转换为张量\n",
    "a = torch.tensor(da.to_numpy(dtype=float))\n",
    "a\n",
    "\n"
   ]
  }
 ],
 "metadata": {
  "kernelspec": {
   "display_name": "d2l",
   "language": "python",
   "name": "python3"
  },
  "language_info": {
   "codemirror_mode": {
    "name": "ipython",
    "version": 3
   },
   "file_extension": ".py",
   "mimetype": "text/x-python",
   "name": "python",
   "nbconvert_exporter": "python",
   "pygments_lexer": "ipython3",
   "version": "3.9.21"
  }
 },
 "nbformat": 4,
 "nbformat_minor": 2
}
