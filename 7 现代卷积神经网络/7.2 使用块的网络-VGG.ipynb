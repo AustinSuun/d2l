{
 "cells": [
  {
   "cell_type": "code",
   "execution_count": 11,
   "metadata": {},
   "outputs": [],
   "source": [
    "import torch \n",
    "from torch import nn\n",
    "from d2l import torch as d2l"
   ]
  },
  {
   "cell_type": "code",
   "execution_count": 15,
   "metadata": {},
   "outputs": [],
   "source": [
    "# vgg块\n",
    "def vgg_block(num_convs, input_channels, out_channels):\n",
    "    layers = []\n",
    "    for _ in range(num_convs):\n",
    "        layers.append(nn.Conv2d(input_channels, out_channels, \n",
    "                                kernel_size=3,padding=1))\n",
    "        layers.append(nn.ReLU())\n",
    "        input_channels = out_channels\n",
    "    layers.append(nn.MaxPool2d(kernel_size=2, stride=2))\n",
    "    return nn.Sequential(*layers)\n"
   ]
  },
  {
   "cell_type": "code",
   "execution_count": 17,
   "metadata": {},
   "outputs": [],
   "source": [
    "# vgg 网络| 层数-输出通道\n",
    "conv_arch = ((1, 64), (1, 128), (2, 256), (2, 512), (2, 512))\n",
    "\n",
    "\n",
    "def vgg(conv_arch):\n",
    "    conv_blocks = []\n",
    "    in_channels = 1\n",
    "    for num_convs, out_channles in conv_arch:\n",
    "        conv_blocks.append(vgg_block(num_convs, in_channels, out_channles))\n",
    "        in_channels = out_channles\n",
    "        \n",
    "    return nn.Sequential(*conv_blocks, nn.Flatten(),\n",
    "                         nn.Linear(out_channles*7*7, 4096),nn.ReLU(),nn.Dropout(0.5),\n",
    "                         nn.Linear(4096,4096),nn.ReLU(), nn.Dropout(0.5),\n",
    "                         nn.Linear(4096, 10))\n",
    "\n",
    "net= vgg(conv_arch)"
   ]
  },
  {
   "cell_type": "code",
   "execution_count": 24,
   "metadata": {},
   "outputs": [
    {
     "name": "stdout",
     "output_type": "stream",
     "text": [
      "Sequential output shape:    \t torch.Size([1, 64, 112, 112])\n",
      "Sequential output shape:    \t torch.Size([1, 128, 56, 56])\n",
      "Sequential output shape:    \t torch.Size([1, 256, 28, 28])\n",
      "Sequential output shape:    \t torch.Size([1, 512, 14, 14])\n",
      "Sequential output shape:    \t torch.Size([1, 512, 7, 7])\n",
      "Flatten output shape:    \t torch.Size([1, 25088])\n",
      "Linear output shape:    \t torch.Size([1, 4096])\n",
      "ReLU output shape:    \t torch.Size([1, 4096])\n",
      "Dropout output shape:    \t torch.Size([1, 4096])\n",
      "Linear output shape:    \t torch.Size([1, 4096])\n",
      "ReLU output shape:    \t torch.Size([1, 4096])\n",
      "Dropout output shape:    \t torch.Size([1, 4096])\n",
      "Linear output shape:    \t torch.Size([1, 10])\n"
     ]
    }
   ],
   "source": [
    "X = torch.rand(size = (1 , 1, 224, 224))\n",
    "for blk in net:\n",
    "    X= blk(X)\n",
    "    print(blk.__class__.__name__, 'output shape:    \\t', X.shape)"
   ]
  },
  {
   "cell_type": "code",
   "execution_count": 25,
   "metadata": {},
   "outputs": [],
   "source": [
    "radio = 4\n",
    "small_conv_arch = [(pair[0], pair[1] //4) for pair in conv_arch]\n",
    "net = vgg(small_conv_arch)"
   ]
  },
  {
   "cell_type": "code",
   "execution_count": null,
   "metadata": {},
   "outputs": [],
   "source": [
    "lr, num_epochs ,batch_sizes= 0.05, 10  , 128\n",
    "train_iter, test_iter = d2l.load_data_fashion_mnist(batch_sizes, resize=224)\n",
    "\n",
    "d2l.train_ch6(net, train_iter, test_iter, num_epochs, lr, d2l.try_gpu())"
   ]
  },
  {
   "cell_type": "markdown",
   "metadata": {},
   "source": [
    "![20250114142958](https://raw.githubusercontent.com/Rainbow452/image/main/img/20250114142958.png)"
   ]
  }
 ],
 "metadata": {
  "kernelspec": {
   "display_name": "d2l",
   "language": "python",
   "name": "python3"
  },
  "language_info": {
   "codemirror_mode": {
    "name": "ipython",
    "version": 3
   },
   "file_extension": ".py",
   "mimetype": "text/x-python",
   "name": "python",
   "nbconvert_exporter": "python",
   "pygments_lexer": "ipython3",
   "version": "3.9.21"
  }
 },
 "nbformat": 4,
 "nbformat_minor": 2
}
